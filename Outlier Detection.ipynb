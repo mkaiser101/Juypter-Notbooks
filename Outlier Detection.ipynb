{
 "cells": [
  {
   "cell_type": "markdown",
   "metadata": {},
   "source": [
    "# Corona Map Reduce"
   ]
  },
  {
   "cell_type": "code",
   "execution_count": 1,
   "metadata": {
    "collapsed": true
   },
   "outputs": [],
   "source": [
    "import numpy as np\n",
    "\n",
    "import pandas as pd\n",
    "from sklearn.linear_model import Lasso\n",
    "from sklearn.metrics import r2_score\n",
    "import matplotlib\n",
    "\n",
    "import matplotlib.pyplot as plt\n",
    "from scipy.stats import skew\n",
    "from scipy.stats.stats import pearsonr"
   ]
  },
  {
   "cell_type": "code",
   "execution_count": 2,
   "metadata": {
    "collapsed": false
   },
   "outputs": [
    {
     "data": {
      "text/html": [
       "<div>\n",
       "<style>\n",
       "    .dataframe thead tr:only-child th {\n",
       "        text-align: right;\n",
       "    }\n",
       "\n",
       "    .dataframe thead th {\n",
       "        text-align: left;\n",
       "    }\n",
       "\n",
       "    .dataframe tbody tr th {\n",
       "        vertical-align: top;\n",
       "    }\n",
       "</style>\n",
       "<table border=\"1\" class=\"dataframe\">\n",
       "  <thead>\n",
       "    <tr style=\"text-align: right;\">\n",
       "      <th></th>\n",
       "      <th>contributors</th>\n",
       "      <th>coordinates</th>\n",
       "      <th>created_at</th>\n",
       "      <th>entities</th>\n",
       "      <th>extended_entities</th>\n",
       "      <th>favorite_count</th>\n",
       "      <th>favorited</th>\n",
       "      <th>geo</th>\n",
       "      <th>id</th>\n",
       "      <th>id_str</th>\n",
       "      <th>...</th>\n",
       "      <th>quoted_status</th>\n",
       "      <th>quoted_status_id</th>\n",
       "      <th>quoted_status_id_str</th>\n",
       "      <th>retweet_count</th>\n",
       "      <th>retweeted</th>\n",
       "      <th>retweeted_status</th>\n",
       "      <th>source</th>\n",
       "      <th>text</th>\n",
       "      <th>truncated</th>\n",
       "      <th>user</th>\n",
       "    </tr>\n",
       "  </thead>\n",
       "  <tbody>\n",
       "    <tr>\n",
       "      <th>0</th>\n",
       "      <td>NaN</td>\n",
       "      <td>NaN</td>\n",
       "      <td>2016-11-25 22:05:05</td>\n",
       "      <td>{'symbols': [], 'user_mentions': [], 'hashtags...</td>\n",
       "      <td>{'media': [{'expanded_url': 'https://twitter.c...</td>\n",
       "      <td>16</td>\n",
       "      <td>False</td>\n",
       "      <td>NaN</td>\n",
       "      <td>802271920146128896</td>\n",
       "      <td>802271920146128896</td>\n",
       "      <td>...</td>\n",
       "      <td>NaN</td>\n",
       "      <td>NaN</td>\n",
       "      <td>NaN</td>\n",
       "      <td>12</td>\n",
       "      <td>False</td>\n",
       "      <td>NaN</td>\n",
       "      <td>&lt;a href=\"http://percolate.com\" rel=\"nofollow\"&gt;...</td>\n",
       "      <td>Que comience la temporada de compartir momento...</td>\n",
       "      <td>False</td>\n",
       "      <td>{'follow_request_sent': False, 'has_extended_p...</td>\n",
       "    </tr>\n",
       "    <tr>\n",
       "      <th>1</th>\n",
       "      <td>NaN</td>\n",
       "      <td>NaN</td>\n",
       "      <td>2016-11-25 22:00:08</td>\n",
       "      <td>{'symbols': [], 'user_mentions': [], 'hashtags...</td>\n",
       "      <td>{'media': [{'expanded_url': 'https://twitter.c...</td>\n",
       "      <td>38</td>\n",
       "      <td>False</td>\n",
       "      <td>NaN</td>\n",
       "      <td>802270673183731712</td>\n",
       "      <td>802270673183731712</td>\n",
       "      <td>...</td>\n",
       "      <td>NaN</td>\n",
       "      <td>NaN</td>\n",
       "      <td>NaN</td>\n",
       "      <td>22</td>\n",
       "      <td>False</td>\n",
       "      <td>NaN</td>\n",
       "      <td>&lt;a href=\"http://percolate.com\" rel=\"nofollow\"&gt;...</td>\n",
       "      <td>Find your tree yet? https://t.co/C7VCHj2e9b</td>\n",
       "      <td>False</td>\n",
       "      <td>{'follow_request_sent': False, 'has_extended_p...</td>\n",
       "    </tr>\n",
       "    <tr>\n",
       "      <th>2</th>\n",
       "      <td>NaN</td>\n",
       "      <td>NaN</td>\n",
       "      <td>2016-11-20 16:06:14</td>\n",
       "      <td>{'symbols': [], 'user_mentions': [], 'hashtags...</td>\n",
       "      <td>{'media': [{'expanded_url': 'https://twitter.c...</td>\n",
       "      <td>13</td>\n",
       "      <td>False</td>\n",
       "      <td>NaN</td>\n",
       "      <td>800369672776466432</td>\n",
       "      <td>800369672776466432</td>\n",
       "      <td>...</td>\n",
       "      <td>NaN</td>\n",
       "      <td>NaN</td>\n",
       "      <td>NaN</td>\n",
       "      <td>5</td>\n",
       "      <td>False</td>\n",
       "      <td>NaN</td>\n",
       "      <td>&lt;a href=\"http://twitter.com\" rel=\"nofollow\"&gt;Tw...</td>\n",
       "      <td>Cuando te dejas llevar por la música ocurren c...</td>\n",
       "      <td>False</td>\n",
       "      <td>{'follow_request_sent': False, 'has_extended_p...</td>\n",
       "    </tr>\n",
       "    <tr>\n",
       "      <th>3</th>\n",
       "      <td>NaN</td>\n",
       "      <td>NaN</td>\n",
       "      <td>2016-11-20 16:05:43</td>\n",
       "      <td>{'symbols': [], 'user_mentions': [], 'hashtags...</td>\n",
       "      <td>{'media': [{'expanded_url': 'https://twitter.c...</td>\n",
       "      <td>29</td>\n",
       "      <td>False</td>\n",
       "      <td>NaN</td>\n",
       "      <td>800369540844679168</td>\n",
       "      <td>800369540844679168</td>\n",
       "      <td>...</td>\n",
       "      <td>NaN</td>\n",
       "      <td>NaN</td>\n",
       "      <td>NaN</td>\n",
       "      <td>8</td>\n",
       "      <td>False</td>\n",
       "      <td>NaN</td>\n",
       "      <td>&lt;a href=\"http://twitter.com\" rel=\"nofollow\"&gt;Tw...</td>\n",
       "      <td>That moment when your song takes you to that h...</td>\n",
       "      <td>False</td>\n",
       "      <td>{'follow_request_sent': False, 'has_extended_p...</td>\n",
       "    </tr>\n",
       "    <tr>\n",
       "      <th>4</th>\n",
       "      <td>NaN</td>\n",
       "      <td>NaN</td>\n",
       "      <td>2016-11-11 21:22:18</td>\n",
       "      <td>{'symbols': [], 'user_mentions': [], 'hashtags...</td>\n",
       "      <td>{'media': [{'expanded_url': 'https://twitter.c...</td>\n",
       "      <td>15</td>\n",
       "      <td>False</td>\n",
       "      <td>NaN</td>\n",
       "      <td>797187721127149568</td>\n",
       "      <td>797187721127149568</td>\n",
       "      <td>...</td>\n",
       "      <td>NaN</td>\n",
       "      <td>NaN</td>\n",
       "      <td>NaN</td>\n",
       "      <td>9</td>\n",
       "      <td>False</td>\n",
       "      <td>NaN</td>\n",
       "      <td>&lt;a href=\"http://twitter.com\" rel=\"nofollow\"&gt;Tw...</td>\n",
       "      <td>#FightNight done right. Catch Kovalev vs Ward ...</td>\n",
       "      <td>False</td>\n",
       "      <td>{'follow_request_sent': False, 'has_extended_p...</td>\n",
       "    </tr>\n",
       "  </tbody>\n",
       "</table>\n",
       "<p>5 rows × 29 columns</p>\n",
       "</div>"
      ],
      "text/plain": [
       "   contributors  coordinates          created_at  \\\n",
       "0           NaN          NaN 2016-11-25 22:05:05   \n",
       "1           NaN          NaN 2016-11-25 22:00:08   \n",
       "2           NaN          NaN 2016-11-20 16:06:14   \n",
       "3           NaN          NaN 2016-11-20 16:05:43   \n",
       "4           NaN          NaN 2016-11-11 21:22:18   \n",
       "\n",
       "                                            entities  \\\n",
       "0  {'symbols': [], 'user_mentions': [], 'hashtags...   \n",
       "1  {'symbols': [], 'user_mentions': [], 'hashtags...   \n",
       "2  {'symbols': [], 'user_mentions': [], 'hashtags...   \n",
       "3  {'symbols': [], 'user_mentions': [], 'hashtags...   \n",
       "4  {'symbols': [], 'user_mentions': [], 'hashtags...   \n",
       "\n",
       "                                   extended_entities  favorite_count  \\\n",
       "0  {'media': [{'expanded_url': 'https://twitter.c...              16   \n",
       "1  {'media': [{'expanded_url': 'https://twitter.c...              38   \n",
       "2  {'media': [{'expanded_url': 'https://twitter.c...              13   \n",
       "3  {'media': [{'expanded_url': 'https://twitter.c...              29   \n",
       "4  {'media': [{'expanded_url': 'https://twitter.c...              15   \n",
       "\n",
       "   favorited  geo                  id              id_str  \\\n",
       "0      False  NaN  802271920146128896  802271920146128896   \n",
       "1      False  NaN  802270673183731712  802270673183731712   \n",
       "2      False  NaN  800369672776466432  800369672776466432   \n",
       "3      False  NaN  800369540844679168  800369540844679168   \n",
       "4      False  NaN  797187721127149568  797187721127149568   \n",
       "\n",
       "                         ...                         quoted_status  \\\n",
       "0                        ...                                   NaN   \n",
       "1                        ...                                   NaN   \n",
       "2                        ...                                   NaN   \n",
       "3                        ...                                   NaN   \n",
       "4                        ...                                   NaN   \n",
       "\n",
       "   quoted_status_id  quoted_status_id_str  retweet_count  retweeted  \\\n",
       "0               NaN                   NaN             12      False   \n",
       "1               NaN                   NaN             22      False   \n",
       "2               NaN                   NaN              5      False   \n",
       "3               NaN                   NaN              8      False   \n",
       "4               NaN                   NaN              9      False   \n",
       "\n",
       "   retweeted_status                                             source  \\\n",
       "0               NaN  <a href=\"http://percolate.com\" rel=\"nofollow\">...   \n",
       "1               NaN  <a href=\"http://percolate.com\" rel=\"nofollow\">...   \n",
       "2               NaN  <a href=\"http://twitter.com\" rel=\"nofollow\">Tw...   \n",
       "3               NaN  <a href=\"http://twitter.com\" rel=\"nofollow\">Tw...   \n",
       "4               NaN  <a href=\"http://twitter.com\" rel=\"nofollow\">Tw...   \n",
       "\n",
       "                                                text  truncated  \\\n",
       "0  Que comience la temporada de compartir momento...      False   \n",
       "1        Find your tree yet? https://t.co/C7VCHj2e9b      False   \n",
       "2  Cuando te dejas llevar por la música ocurren c...      False   \n",
       "3  That moment when your song takes you to that h...      False   \n",
       "4  #FightNight done right. Catch Kovalev vs Ward ...      False   \n",
       "\n",
       "                                                user  \n",
       "0  {'follow_request_sent': False, 'has_extended_p...  \n",
       "1  {'follow_request_sent': False, 'has_extended_p...  \n",
       "2  {'follow_request_sent': False, 'has_extended_p...  \n",
       "3  {'follow_request_sent': False, 'has_extended_p...  \n",
       "4  {'follow_request_sent': False, 'has_extended_p...  \n",
       "\n",
       "[5 rows x 29 columns]"
      ]
     },
     "execution_count": 2,
     "metadata": {},
     "output_type": "execute_result"
    }
   ],
   "source": [
    "#pandas is a powerful Python data analysis toolkit\n",
    "#fast, flexible, and expressive data structures designed to make \n",
    "#working with relational or labeled data\n",
    "df = pd.read_json(\"coronaextrausa0.json\")\n",
    "df.head()\n",
    "#After testing the source many are posted by advertising agencies"
   ]
  },
  {
   "cell_type": "code",
   "execution_count": 3,
   "metadata": {
    "collapsed": false
   },
   "outputs": [
    {
     "data": {
      "text/plain": [
       "Index(['contributors', 'coordinates', 'created_at', 'entities',\n",
       "       'extended_entities', 'favorite_count', 'favorited', 'geo', 'id',\n",
       "       'id_str', 'in_reply_to_screen_name', 'in_reply_to_status_id',\n",
       "       'in_reply_to_status_id_str', 'in_reply_to_user_id',\n",
       "       'in_reply_to_user_id_str', 'is_quote_status', 'lang', 'place',\n",
       "       'possibly_sensitive', 'quoted_status', 'quoted_status_id',\n",
       "       'quoted_status_id_str', 'retweet_count', 'retweeted',\n",
       "       'retweeted_status', 'source', 'text', 'truncated', 'user'],\n",
       "      dtype='object')"
      ]
     },
     "execution_count": 3,
     "metadata": {},
     "output_type": "execute_result"
    }
   ],
   "source": [
    "df.columns"
   ]
  },
  {
   "cell_type": "code",
   "execution_count": 4,
   "metadata": {
    "collapsed": false
   },
   "outputs": [
    {
     "data": {
      "text/plain": [
       "contributors                        float64\n",
       "coordinates                         float64\n",
       "created_at                   datetime64[ns]\n",
       "entities                             object\n",
       "extended_entities                    object\n",
       "favorite_count                        int64\n",
       "favorited                              bool\n",
       "geo                                 float64\n",
       "id                                    int64\n",
       "id_str                                int64\n",
       "in_reply_to_screen_name              object\n",
       "in_reply_to_status_id               float64\n",
       "in_reply_to_status_id_str           float64\n",
       "in_reply_to_user_id                 float64\n",
       "in_reply_to_user_id_str             float64\n",
       "is_quote_status                        bool\n",
       "lang                                 object\n",
       "place                               float64\n",
       "possibly_sensitive                  float64\n",
       "quoted_status                        object\n",
       "quoted_status_id                    float64\n",
       "quoted_status_id_str                float64\n",
       "retweet_count                         int64\n",
       "retweeted                              bool\n",
       "retweeted_status                     object\n",
       "source                               object\n",
       "text                                 object\n",
       "truncated                              bool\n",
       "user                                 object\n",
       "dtype: object"
      ]
     },
     "execution_count": 4,
     "metadata": {},
     "output_type": "execute_result"
    }
   ],
   "source": [
    "df.dtypes"
   ]
  },
  {
   "cell_type": "code",
   "execution_count": 5,
   "metadata": {
    "collapsed": false
   },
   "outputs": [
    {
     "data": {
      "text/html": [
       "<div>\n",
       "<style>\n",
       "    .dataframe thead tr:only-child th {\n",
       "        text-align: right;\n",
       "    }\n",
       "\n",
       "    .dataframe thead th {\n",
       "        text-align: left;\n",
       "    }\n",
       "\n",
       "    .dataframe tbody tr th {\n",
       "        vertical-align: top;\n",
       "    }\n",
       "</style>\n",
       "<table border=\"1\" class=\"dataframe\">\n",
       "  <thead>\n",
       "    <tr style=\"text-align: right;\">\n",
       "      <th></th>\n",
       "      <th>text</th>\n",
       "      <th>created_at</th>\n",
       "      <th>retweet_count</th>\n",
       "    </tr>\n",
       "  </thead>\n",
       "  <tbody>\n",
       "    <tr>\n",
       "      <th>0</th>\n",
       "      <td>Que comience la temporada de compartir momento...</td>\n",
       "      <td>2016-11-25 22:05:05</td>\n",
       "      <td>12</td>\n",
       "    </tr>\n",
       "    <tr>\n",
       "      <th>1</th>\n",
       "      <td>Find your tree yet? https://t.co/C7VCHj2e9b</td>\n",
       "      <td>2016-11-25 22:00:08</td>\n",
       "      <td>22</td>\n",
       "    </tr>\n",
       "    <tr>\n",
       "      <th>2</th>\n",
       "      <td>Cuando te dejas llevar por la música ocurren c...</td>\n",
       "      <td>2016-11-20 16:06:14</td>\n",
       "      <td>5</td>\n",
       "    </tr>\n",
       "    <tr>\n",
       "      <th>3</th>\n",
       "      <td>That moment when your song takes you to that h...</td>\n",
       "      <td>2016-11-20 16:05:43</td>\n",
       "      <td>8</td>\n",
       "    </tr>\n",
       "    <tr>\n",
       "      <th>4</th>\n",
       "      <td>#FightNight done right. Catch Kovalev vs Ward ...</td>\n",
       "      <td>2016-11-11 21:22:18</td>\n",
       "      <td>9</td>\n",
       "    </tr>\n",
       "  </tbody>\n",
       "</table>\n",
       "</div>"
      ],
      "text/plain": [
       "                                                text          created_at  \\\n",
       "0  Que comience la temporada de compartir momento... 2016-11-25 22:05:05   \n",
       "1        Find your tree yet? https://t.co/C7VCHj2e9b 2016-11-25 22:00:08   \n",
       "2  Cuando te dejas llevar por la música ocurren c... 2016-11-20 16:06:14   \n",
       "3  That moment when your song takes you to that h... 2016-11-20 16:05:43   \n",
       "4  #FightNight done right. Catch Kovalev vs Ward ... 2016-11-11 21:22:18   \n",
       "\n",
       "   retweet_count  \n",
       "0             12  \n",
       "1             22  \n",
       "2              5  \n",
       "3              8  \n",
       "4              9  "
      ]
     },
     "execution_count": 5,
     "metadata": {},
     "output_type": "execute_result"
    }
   ],
   "source": [
    "ndf = df[['text', 'created_at', 'retweet_count']]\n",
    "\n",
    "ndf.head(5)"
   ]
  },
  {
   "cell_type": "code",
   "execution_count": 6,
   "metadata": {
    "collapsed": false
   },
   "outputs": [
    {
     "data": {
      "text/html": [
       "<div>\n",
       "<style>\n",
       "    .dataframe thead tr:only-child th {\n",
       "        text-align: right;\n",
       "    }\n",
       "\n",
       "    .dataframe thead th {\n",
       "        text-align: left;\n",
       "    }\n",
       "\n",
       "    .dataframe tbody tr th {\n",
       "        vertical-align: top;\n",
       "    }\n",
       "</style>\n",
       "<table border=\"1\" class=\"dataframe\">\n",
       "  <thead>\n",
       "    <tr style=\"text-align: right;\">\n",
       "      <th></th>\n",
       "      <th>text</th>\n",
       "      <th>created_at</th>\n",
       "      <th>retweet_count</th>\n",
       "    </tr>\n",
       "  </thead>\n",
       "  <tbody>\n",
       "    <tr>\n",
       "      <th>0</th>\n",
       "      <td>@ktuck_91 Safe travels on your journey. Don't ...</td>\n",
       "      <td>2016-07-08 21:56:48</td>\n",
       "      <td>0</td>\n",
       "    </tr>\n",
       "    <tr>\n",
       "      <th>1</th>\n",
       "      <td>@quetallitabusca Cómo debe de ser. Salud!</td>\n",
       "      <td>2016-07-07 15:35:00</td>\n",
       "      <td>0</td>\n",
       "    </tr>\n",
       "    <tr>\n",
       "      <th>2</th>\n",
       "      <td>@adriana02022879 En el mar la vida es más sabr...</td>\n",
       "      <td>2016-07-07 15:30:08</td>\n",
       "      <td>0</td>\n",
       "    </tr>\n",
       "    <tr>\n",
       "      <th>3</th>\n",
       "      <td>@JoshTaerk And #BastilleDay coming up next wee...</td>\n",
       "      <td>2016-07-05 20:59:12</td>\n",
       "      <td>1</td>\n",
       "    </tr>\n",
       "    <tr>\n",
       "      <th>4</th>\n",
       "      <td>@the1andonlypaco Permission granted.</td>\n",
       "      <td>2016-07-05 20:58:51</td>\n",
       "      <td>1</td>\n",
       "    </tr>\n",
       "  </tbody>\n",
       "</table>\n",
       "</div>"
      ],
      "text/plain": [
       "                                                text          created_at  \\\n",
       "0  @ktuck_91 Safe travels on your journey. Don't ... 2016-07-08 21:56:48   \n",
       "1          @quetallitabusca Cómo debe de ser. Salud! 2016-07-07 15:35:00   \n",
       "2  @adriana02022879 En el mar la vida es más sabr... 2016-07-07 15:30:08   \n",
       "3  @JoshTaerk And #BastilleDay coming up next wee... 2016-07-05 20:59:12   \n",
       "4               @the1andonlypaco Permission granted. 2016-07-05 20:58:51   \n",
       "\n",
       "   retweet_count  \n",
       "0              0  \n",
       "1              0  \n",
       "2              0  \n",
       "3              1  \n",
       "4              1  "
      ]
     },
     "execution_count": 6,
     "metadata": {},
     "output_type": "execute_result"
    }
   ],
   "source": [
    "df2 = pd.read_json(\"coronaextrausa1.json\")\n",
    "ndf2 = df2[['text', 'created_at', 'retweet_count']]\n",
    "ndf2.head(5)"
   ]
  },
  {
   "cell_type": "code",
   "execution_count": 7,
   "metadata": {
    "collapsed": false
   },
   "outputs": [
    {
     "data": {
      "text/html": [
       "<div>\n",
       "<style>\n",
       "    .dataframe thead tr:only-child th {\n",
       "        text-align: right;\n",
       "    }\n",
       "\n",
       "    .dataframe thead th {\n",
       "        text-align: left;\n",
       "    }\n",
       "\n",
       "    .dataframe tbody tr th {\n",
       "        vertical-align: top;\n",
       "    }\n",
       "</style>\n",
       "<table border=\"1\" class=\"dataframe\">\n",
       "  <thead>\n",
       "    <tr style=\"text-align: right;\">\n",
       "      <th></th>\n",
       "      <th>text</th>\n",
       "      <th>created_at</th>\n",
       "      <th>retweet_count</th>\n",
       "    </tr>\n",
       "  </thead>\n",
       "  <tbody>\n",
       "    <tr>\n",
       "      <th>0</th>\n",
       "      <td>@ToddyFur @chalkybear13 Salud!</td>\n",
       "      <td>2016-04-18 20:19:38</td>\n",
       "      <td>0</td>\n",
       "    </tr>\n",
       "    <tr>\n",
       "      <th>1</th>\n",
       "      <td>@chamberzone_ Here's to you. Salud!</td>\n",
       "      <td>2016-04-18 20:18:16</td>\n",
       "      <td>0</td>\n",
       "    </tr>\n",
       "    <tr>\n",
       "      <th>2</th>\n",
       "      <td>@jaredcooper4 More beach vibes, please!</td>\n",
       "      <td>2016-04-18 20:18:01</td>\n",
       "      <td>0</td>\n",
       "    </tr>\n",
       "    <tr>\n",
       "      <th>3</th>\n",
       "      <td>@solita_valencia Gotta file some limes. #TaxDay</td>\n",
       "      <td>2016-04-18 20:17:36</td>\n",
       "      <td>0</td>\n",
       "    </tr>\n",
       "    <tr>\n",
       "      <th>4</th>\n",
       "      <td>@KodiboyLaurie That summer feeling.</td>\n",
       "      <td>2016-04-18 20:17:16</td>\n",
       "      <td>1</td>\n",
       "    </tr>\n",
       "  </tbody>\n",
       "</table>\n",
       "</div>"
      ],
      "text/plain": [
       "                                              text          created_at  \\\n",
       "0                   @ToddyFur @chalkybear13 Salud! 2016-04-18 20:19:38   \n",
       "1              @chamberzone_ Here's to you. Salud! 2016-04-18 20:18:16   \n",
       "2          @jaredcooper4 More beach vibes, please! 2016-04-18 20:18:01   \n",
       "3  @solita_valencia Gotta file some limes. #TaxDay 2016-04-18 20:17:36   \n",
       "4              @KodiboyLaurie That summer feeling. 2016-04-18 20:17:16   \n",
       "\n",
       "   retweet_count  \n",
       "0              0  \n",
       "1              0  \n",
       "2              0  \n",
       "3              0  \n",
       "4              1  "
      ]
     },
     "execution_count": 7,
     "metadata": {},
     "output_type": "execute_result"
    }
   ],
   "source": [
    "df3 = pd.read_json(\"coronaextrausa2.json\")\n",
    "ndf3 = df3[['text', 'created_at', 'retweet_count']]\n",
    "ndf3.head(5)"
   ]
  },
  {
   "cell_type": "code",
   "execution_count": 8,
   "metadata": {
    "collapsed": false
   },
   "outputs": [
    {
     "data": {
      "text/html": [
       "<div>\n",
       "<style>\n",
       "    .dataframe thead tr:only-child th {\n",
       "        text-align: right;\n",
       "    }\n",
       "\n",
       "    .dataframe thead th {\n",
       "        text-align: left;\n",
       "    }\n",
       "\n",
       "    .dataframe tbody tr th {\n",
       "        vertical-align: top;\n",
       "    }\n",
       "</style>\n",
       "<table border=\"1\" class=\"dataframe\">\n",
       "  <thead>\n",
       "    <tr style=\"text-align: right;\">\n",
       "      <th></th>\n",
       "      <th>text</th>\n",
       "      <th>created_at</th>\n",
       "      <th>retweet_count</th>\n",
       "    </tr>\n",
       "  </thead>\n",
       "  <tbody>\n",
       "    <tr>\n",
       "      <th>0</th>\n",
       "      <td>¡Pero que vista!\\nMuéstranos tu  #ViewFromMyCo...</td>\n",
       "      <td>2016-01-27 17:36:42</td>\n",
       "      <td>7</td>\n",
       "    </tr>\n",
       "    <tr>\n",
       "      <th>1</th>\n",
       "      <td>Change the forecast of your day with #CoronaEx...</td>\n",
       "      <td>2016-01-25 04:10:50</td>\n",
       "      <td>10</td>\n",
       "    </tr>\n",
       "    <tr>\n",
       "      <th>2</th>\n",
       "      <td>Cualquier día del año es perfecto para disfrut...</td>\n",
       "      <td>2016-01-25 01:58:26</td>\n",
       "      <td>9</td>\n",
       "    </tr>\n",
       "    <tr>\n",
       "      <th>3</th>\n",
       "      <td>Dooooown - Set - Hut - Hut - #CoronaExtra. htt...</td>\n",
       "      <td>2016-01-22 19:00:03</td>\n",
       "      <td>13</td>\n",
       "    </tr>\n",
       "    <tr>\n",
       "      <th>4</th>\n",
       "      <td>¡Ya estamos listos para el Gran Juego! #Corona...</td>\n",
       "      <td>2016-01-22 17:00:05</td>\n",
       "      <td>18</td>\n",
       "    </tr>\n",
       "  </tbody>\n",
       "</table>\n",
       "</div>"
      ],
      "text/plain": [
       "                                                text          created_at  \\\n",
       "0  ¡Pero que vista!\\nMuéstranos tu  #ViewFromMyCo... 2016-01-27 17:36:42   \n",
       "1  Change the forecast of your day with #CoronaEx... 2016-01-25 04:10:50   \n",
       "2  Cualquier día del año es perfecto para disfrut... 2016-01-25 01:58:26   \n",
       "3  Dooooown - Set - Hut - Hut - #CoronaExtra. htt... 2016-01-22 19:00:03   \n",
       "4  ¡Ya estamos listos para el Gran Juego! #Corona... 2016-01-22 17:00:05   \n",
       "\n",
       "   retweet_count  \n",
       "0              7  \n",
       "1             10  \n",
       "2              9  \n",
       "3             13  \n",
       "4             18  "
      ]
     },
     "execution_count": 8,
     "metadata": {},
     "output_type": "execute_result"
    }
   ],
   "source": [
    "df4 = pd.read_json(\"coronaextrausa3.json\")\n",
    "ndf4 = df4[['text', 'created_at', 'retweet_count']]\n",
    "ndf4.head(5)"
   ]
  },
  {
   "cell_type": "code",
   "execution_count": 9,
   "metadata": {
    "collapsed": false
   },
   "outputs": [
    {
     "data": {
      "text/html": [
       "<div>\n",
       "<style>\n",
       "    .dataframe thead tr:only-child th {\n",
       "        text-align: right;\n",
       "    }\n",
       "\n",
       "    .dataframe thead th {\n",
       "        text-align: left;\n",
       "    }\n",
       "\n",
       "    .dataframe tbody tr th {\n",
       "        vertical-align: top;\n",
       "    }\n",
       "</style>\n",
       "<table border=\"1\" class=\"dataframe\">\n",
       "  <thead>\n",
       "    <tr style=\"text-align: right;\">\n",
       "      <th></th>\n",
       "      <th>text</th>\n",
       "      <th>created_at</th>\n",
       "      <th>retweet_count</th>\n",
       "    </tr>\n",
       "  </thead>\n",
       "  <tbody>\n",
       "    <tr>\n",
       "      <th>0</th>\n",
       "      <td>CoronaRita &amp;gt; margarita. \\nFave this to shak...</td>\n",
       "      <td>2015-07-23 21:04:52</td>\n",
       "      <td>11</td>\n",
       "    </tr>\n",
       "    <tr>\n",
       "      <th>1</th>\n",
       "      <td>Un amor de verano que no quieres que termine. ...</td>\n",
       "      <td>2015-07-21 23:04:34</td>\n",
       "      <td>11</td>\n",
       "    </tr>\n",
       "    <tr>\n",
       "      <th>2</th>\n",
       "      <td>This is one summer fling we never want to end....</td>\n",
       "      <td>2015-07-21 21:08:30</td>\n",
       "      <td>26</td>\n",
       "    </tr>\n",
       "    <tr>\n",
       "      <th>3</th>\n",
       "      <td>Receta para el verano perfecto:\\nRelájate.\\nRe...</td>\n",
       "      <td>2015-07-18 07:23:45</td>\n",
       "      <td>13</td>\n",
       "    </tr>\n",
       "    <tr>\n",
       "      <th>4</th>\n",
       "      <td>Summer vacation recipe: \\nRelax. \\nRecenter. \\...</td>\n",
       "      <td>2015-07-17 21:00:05</td>\n",
       "      <td>13</td>\n",
       "    </tr>\n",
       "  </tbody>\n",
       "</table>\n",
       "</div>"
      ],
      "text/plain": [
       "                                                text          created_at  \\\n",
       "0  CoronaRita &gt; margarita. \\nFave this to shak... 2015-07-23 21:04:52   \n",
       "1  Un amor de verano que no quieres que termine. ... 2015-07-21 23:04:34   \n",
       "2  This is one summer fling we never want to end.... 2015-07-21 21:08:30   \n",
       "3  Receta para el verano perfecto:\\nRelájate.\\nRe... 2015-07-18 07:23:45   \n",
       "4  Summer vacation recipe: \\nRelax. \\nRecenter. \\... 2015-07-17 21:00:05   \n",
       "\n",
       "   retweet_count  \n",
       "0             11  \n",
       "1             11  \n",
       "2             26  \n",
       "3             13  \n",
       "4             13  "
      ]
     },
     "execution_count": 9,
     "metadata": {},
     "output_type": "execute_result"
    }
   ],
   "source": [
    "df5 = pd.read_json(\"coronaextrausa4.json\")\n",
    "ndf5 = df5[['text', 'created_at', 'retweet_count']]\n",
    "ndf5.head(5)"
   ]
  },
  {
   "cell_type": "code",
   "execution_count": 10,
   "metadata": {
    "collapsed": false,
    "scrolled": true
   },
   "outputs": [
    {
     "data": {
      "text/html": [
       "<div>\n",
       "<style>\n",
       "    .dataframe thead tr:only-child th {\n",
       "        text-align: right;\n",
       "    }\n",
       "\n",
       "    .dataframe thead th {\n",
       "        text-align: left;\n",
       "    }\n",
       "\n",
       "    .dataframe tbody tr th {\n",
       "        vertical-align: top;\n",
       "    }\n",
       "</style>\n",
       "<table border=\"1\" class=\"dataframe\">\n",
       "  <thead>\n",
       "    <tr style=\"text-align: right;\">\n",
       "      <th></th>\n",
       "      <th>text</th>\n",
       "      <th>created_at</th>\n",
       "      <th>retweet_count</th>\n",
       "    </tr>\n",
       "  </thead>\n",
       "  <tbody>\n",
       "    <tr>\n",
       "      <th>0</th>\n",
       "      <td>@Buzzfeed’s  11 reasons why summer is better f...</td>\n",
       "      <td>2014-05-28 22:30:05</td>\n",
       "      <td>13</td>\n",
       "    </tr>\n",
       "    <tr>\n",
       "      <th>1</th>\n",
       "      <td>Show us how you enjoy  your #CoronaSummer. / E...</td>\n",
       "      <td>2014-05-27 20:00:11</td>\n",
       "      <td>20</td>\n",
       "    </tr>\n",
       "    <tr>\n",
       "      <th>2</th>\n",
       "      <td>There’s always room for something Extra at the...</td>\n",
       "      <td>2014-05-26 20:00:09</td>\n",
       "      <td>27</td>\n",
       "    </tr>\n",
       "    <tr>\n",
       "      <th>3</th>\n",
       "      <td>Long weekend essentials. The only thing missin...</td>\n",
       "      <td>2014-05-23 22:30:06</td>\n",
       "      <td>35</td>\n",
       "    </tr>\n",
       "    <tr>\n",
       "      <th>4</th>\n",
       "      <td>How are you keeping cool this #CoronaSummer? ¿...</td>\n",
       "      <td>2014-05-22 20:00:13</td>\n",
       "      <td>7</td>\n",
       "    </tr>\n",
       "  </tbody>\n",
       "</table>\n",
       "</div>"
      ],
      "text/plain": [
       "                                                text          created_at  \\\n",
       "0  @Buzzfeed’s  11 reasons why summer is better f... 2014-05-28 22:30:05   \n",
       "1  Show us how you enjoy  your #CoronaSummer. / E... 2014-05-27 20:00:11   \n",
       "2  There’s always room for something Extra at the... 2014-05-26 20:00:09   \n",
       "3  Long weekend essentials. The only thing missin... 2014-05-23 22:30:06   \n",
       "4  How are you keeping cool this #CoronaSummer? ¿... 2014-05-22 20:00:13   \n",
       "\n",
       "   retweet_count  \n",
       "0             13  \n",
       "1             20  \n",
       "2             27  \n",
       "3             35  \n",
       "4              7  "
      ]
     },
     "execution_count": 10,
     "metadata": {},
     "output_type": "execute_result"
    }
   ],
   "source": [
    "df6 = pd.read_json(\"coronaextrausa5.json\")\n",
    "ndf6 = df6[['text', 'created_at', 'retweet_count']]\n",
    "ndf6.head(5)"
   ]
  },
  {
   "cell_type": "code",
   "execution_count": 11,
   "metadata": {
    "collapsed": false
   },
   "outputs": [
    {
     "data": {
      "text/html": [
       "<div>\n",
       "<style>\n",
       "    .dataframe thead tr:only-child th {\n",
       "        text-align: right;\n",
       "    }\n",
       "\n",
       "    .dataframe thead th {\n",
       "        text-align: left;\n",
       "    }\n",
       "\n",
       "    .dataframe tbody tr th {\n",
       "        vertical-align: top;\n",
       "    }\n",
       "</style>\n",
       "<table border=\"1\" class=\"dataframe\">\n",
       "  <thead>\n",
       "    <tr style=\"text-align: right;\">\n",
       "      <th></th>\n",
       "      <th>text</th>\n",
       "      <th>created_at</th>\n",
       "      <th>retweet_count</th>\n",
       "    </tr>\n",
       "  </thead>\n",
       "  <tbody>\n",
       "    <tr>\n",
       "      <th>0</th>\n",
       "      <td>Retweet if you think this should be a universa...</td>\n",
       "      <td>2013-05-07 22:38:49</td>\n",
       "      <td>45</td>\n",
       "    </tr>\n",
       "    <tr>\n",
       "      <th>1</th>\n",
       "      <td>Share your Corona Summer pictures &amp;amp; one mi...</td>\n",
       "      <td>2013-05-06 20:58:54</td>\n",
       "      <td>3</td>\n",
       "    </tr>\n",
       "    <tr>\n",
       "      <th>2</th>\n",
       "      <td>Happy Corona de Mayo! Friends, food, fun and C...</td>\n",
       "      <td>2013-05-06 03:32:29</td>\n",
       "      <td>19</td>\n",
       "    </tr>\n",
       "    <tr>\n",
       "      <th>3</th>\n",
       "      <td>Get your Cinco de Mayo weekend started with fu...</td>\n",
       "      <td>2013-05-03 22:36:29</td>\n",
       "      <td>26</td>\n",
       "    </tr>\n",
       "    <tr>\n",
       "      <th>4</th>\n",
       "      <td>Cinco de Mayo is almost here! Here’s something...</td>\n",
       "      <td>2013-05-03 18:31:37</td>\n",
       "      <td>10</td>\n",
       "    </tr>\n",
       "  </tbody>\n",
       "</table>\n",
       "</div>"
      ],
      "text/plain": [
       "                                                text          created_at  \\\n",
       "0  Retweet if you think this should be a universa... 2013-05-07 22:38:49   \n",
       "1  Share your Corona Summer pictures &amp; one mi... 2013-05-06 20:58:54   \n",
       "2  Happy Corona de Mayo! Friends, food, fun and C... 2013-05-06 03:32:29   \n",
       "3  Get your Cinco de Mayo weekend started with fu... 2013-05-03 22:36:29   \n",
       "4  Cinco de Mayo is almost here! Here’s something... 2013-05-03 18:31:37   \n",
       "\n",
       "   retweet_count  \n",
       "0             45  \n",
       "1              3  \n",
       "2             19  \n",
       "3             26  \n",
       "4             10  "
      ]
     },
     "execution_count": 11,
     "metadata": {},
     "output_type": "execute_result"
    }
   ],
   "source": [
    "df7 = pd.read_json(\"coronaextrausa6.json\")\n",
    "ndf7 = df7[['text', 'created_at', 'retweet_count']]\n",
    "ndf7.head(5)"
   ]
  },
  {
   "cell_type": "code",
   "execution_count": 55,
   "metadata": {
    "collapsed": false
   },
   "outputs": [],
   "source": [
    "cdf = pd.concat([ndf,ndf2], ignore_index=True)\n",
    "cdf2 = pd.concat([cdf,ndf3], ignore_index=True)\n",
    "cdf3 = pd.concat([cdf2,ndf4], ignore_index=True)\n",
    "cdf4 = pd.concat([cdf3,ndf5], ignore_index=True)\n",
    "cdf5 = pd.concat([cdf4,ndf6], ignore_index=True)\n",
    "corona_map_reduce = pd.concat([cdf5,ndf7], ignore_index=True)\n",
    "corona_map_reduce_text = corona_map_reduce[[\"text\"]]\n",
    "corona_map_reduce_text\n",
    "filename = 'corona3.csv'\n",
    "corona_map_reduce_text.to_csv(filename, index=False, header=False, encoding='utf-8')"
   ]
  },
  {
   "cell_type": "markdown",
   "metadata": {
    "collapsed": true
   },
   "source": [
    "# 20th Fox Map Reduce"
   ]
  },
  {
   "cell_type": "code",
   "execution_count": 13,
   "metadata": {
    "collapsed": false
   },
   "outputs": [],
   "source": [
    "#Read in 16 datasets of json from fox\n",
    "ff1 = pd.read_json(\"20thcenturyfox0.json\")\n",
    "ff2 = pd.read_json(\"20thcenturyfox1.json\")\n",
    "ff3 = pd.read_json(\"20thcenturyfox2.json\")\n",
    "ff4 = pd.read_json(\"20thcenturyfox3.json\")\n",
    "ff5 = pd.read_json(\"20thcenturyfox4.json\")\n",
    "ff6 = pd.read_json(\"20thcenturyfox5.json\")\n",
    "ff7 = pd.read_json(\"20thcenturyfox6.json\")\n",
    "ff8 = pd.read_json(\"20thcenturyfox7.json\")\n",
    "ff9 = pd.read_json(\"20thcenturyfox8.json\")\n",
    "ff10 = pd.read_json(\"20thcenturyfox9.json\")\n",
    "ff11 = pd.read_json(\"20thcenturyfox10.json\")\n",
    "ff12 = pd.read_json(\"20thcenturyfox11.json\")\n",
    "ff13 = pd.read_json(\"20thcenturyfox12.json\")\n",
    "ff14 = pd.read_json(\"20thcenturyfox13.json\")\n",
    "ff15 = pd.read_json(\"20thcenturyfox14.json\")\n",
    "ff16 = pd.read_json(\"20thcenturyfox15.json\")"
   ]
  },
  {
   "cell_type": "code",
   "execution_count": 14,
   "metadata": {
    "collapsed": false
   },
   "outputs": [],
   "source": [
    "#Map Reduce on tweets\n",
    "nff1 = ff1[['text', 'created_at', 'retweet_count']]\n",
    "nff2 = ff2[['text', 'created_at', 'retweet_count']]\n",
    "nff3 = ff3[['text', 'created_at', 'retweet_count']]\n",
    "nff4 = ff4[['text', 'created_at', 'retweet_count']]\n",
    "nff5 = ff5[['text', 'created_at', 'retweet_count']]\n",
    "nff6 = ff6[['text', 'created_at', 'retweet_count']]\n",
    "nff7 = ff7[['text', 'created_at', 'retweet_count']]\n",
    "nff8 = ff8[['text', 'created_at', 'retweet_count']]\n",
    "nff9 = ff9[['text', 'created_at', 'retweet_count']]\n",
    "nff10 = ff10[['text', 'created_at', 'retweet_count']]\n",
    "nff11 = ff11[['text', 'created_at', 'retweet_count']]\n",
    "nff12 = ff12[['text', 'created_at', 'retweet_count']]\n",
    "nff13 = ff13[['text', 'created_at', 'retweet_count']]\n",
    "nff14 = ff14[['text', 'created_at', 'retweet_count']]\n",
    "nff15 = ff15[['text', 'created_at', 'retweet_count']]\n",
    "nff16 = ff16[['text', 'created_at', 'retweet_count']]"
   ]
  },
  {
   "cell_type": "code",
   "execution_count": 56,
   "metadata": {
    "collapsed": false
   },
   "outputs": [],
   "source": [
    "#Dataset Concatonation\n",
    "fox_map_reduced = pd.concat([nff1,nff2,nff3,nff4,nff5,nff6,nff7,nff8,nff9,nff10,nff11,nff12,nff13,nff14,nff15,nff16], ignore_index=True)\n",
    "fox_map_reduce = pd.concat([nff1,nff2,nff3], ignore_index=True)\n",
    "\n",
    "fox_map_reduced_text = fox_map_reduced[[\"text\"]]\n",
    "#fox_map_reduced_text\n"
   ]
  },
  {
   "cell_type": "code",
   "execution_count": 20,
   "metadata": {
    "collapsed": false
   },
   "outputs": [],
   "source": [
    "#fox_count = fox_map_reduce['text'].str.lower().str.split()\n",
    "#fox_count.dtypes\n",
    "#fox_count\n",
    "#attempted tokenization"
   ]
  },
  {
   "cell_type": "code",
   "execution_count": 21,
   "metadata": {
    "collapsed": false
   },
   "outputs": [],
   "source": [
    "#fmr = fox_map_reduce.text.apply(lambda x: pd.value_counts(x.split(\" \"))).sum()\n",
    "#fmr\n",
    "#attempted tokenization"
   ]
  },
  {
   "cell_type": "code",
   "execution_count": 45,
   "metadata": {
    "collapsed": false
   },
   "outputs": [],
   "source": [
    "file = 'fox.csv'\n",
    "fox_map_reduced_text.to_csv(file, index=False, header=False, encoding='utf-8')"
   ]
  },
  {
   "cell_type": "code",
   "execution_count": 58,
   "metadata": {
    "collapsed": false
   },
   "outputs": [],
   "source": [
    "import re\n",
    "import nltk\n",
    "from sklearn.feature_extraction.text import CountVectorizer\n",
    " \n",
    "text_pos = []\n",
    "labels_pos = []\n",
    "filename = \"fox.csv\"\n",
    "with open(filename, encoding=\"utf8\") as f:\n",
    "    for i in f: \n",
    "        text_pos.append(i) \n",
    "        labels_pos.append('pos')\n",
    "        \n",
    "text_neg = []\n",
    "labels_neg = []\n",
    "filename2 = \"corona3.csv\"\n",
    "with open(filename2, encoding=\"utf8\") as f:\n",
    "    for i in f: \n",
    "        text_neg.append(i)\n",
    "        labels_neg.append('neg')\n",
    "        \n"
   ]
  },
  {
   "cell_type": "code",
   "execution_count": 59,
   "metadata": {
    "collapsed": true
   },
   "outputs": [],
   "source": [
    "training_text = text_pos[:int((.8)*len(text_pos))] + text_neg[:int((.8)*len(text_neg))]\n",
    "training_labels = labels_pos[:int((.8)*len(labels_pos))] + labels_neg[:int((.8)*len(labels_neg))]\n",
    "\n",
    "test_text = text_pos[int((.8)*len(text_pos)):] + text_neg[int((.8)*len(text_neg)):]\n",
    "test_labels = labels_pos[int((.8)*len(labels_pos)):] + labels_neg[int((.8)*len(labels_neg)):]\n",
    "\n",
    "\n",
    "#80% training data--20% testing data \n"
   ]
  },
  {
   "cell_type": "code",
   "execution_count": 60,
   "metadata": {
    "collapsed": true
   },
   "outputs": [],
   "source": [
    "vectorizer = CountVectorizer(\n",
    "    analyzer = 'word',\n",
    "    lowercase = False,\n",
    "    max_features = 85\n",
    ")"
   ]
  },
  {
   "cell_type": "code",
   "execution_count": 61,
   "metadata": {
    "collapsed": true
   },
   "outputs": [],
   "source": [
    "#Next, we use the fit_transform() method to transform our corpus data into feature vectors. Since the input needed is a list of strings, we concatenate all of our training and test data.\n",
    "features = vectorizer.fit_transform(\n",
    "    training_text + test_text)\n",
    "\n",
    "features_nd = features.toarray() # for easy use"
   ]
  },
  {
   "cell_type": "code",
   "execution_count": 62,
   "metadata": {
    "collapsed": false
   },
   "outputs": [],
   "source": [
    "from sklearn.model_selection import train_test_split\n",
    "\n",
    "X_train, X_test, y_train, y_test   = train_test_split(\n",
    "        features_nd[0:len(training_text)], \n",
    "        training_labels,\n",
    "        train_size=0.80, \n",
    "        random_state=1234)"
   ]
  },
  {
   "cell_type": "markdown",
   "metadata": {},
   "source": [
    "# Linear Classifier"
   ]
  },
  {
   "cell_type": "code",
   "execution_count": 63,
   "metadata": {
    "collapsed": true
   },
   "outputs": [],
   "source": [
    "from sklearn.linear_model import LogisticRegression\n",
    "log_model = LogisticRegression()"
   ]
  },
  {
   "cell_type": "code",
   "execution_count": 64,
   "metadata": {
    "collapsed": false
   },
   "outputs": [],
   "source": [
    "log_model = log_model.fit(X=X_train, y=y_train)"
   ]
  },
  {
   "cell_type": "code",
   "execution_count": 65,
   "metadata": {
    "collapsed": true
   },
   "outputs": [],
   "source": [
    "y_pred = log_model.predict(X_test)"
   ]
  },
  {
   "cell_type": "code",
   "execution_count": 71,
   "metadata": {
    "collapsed": false
   },
   "outputs": [
    {
     "name": "stdout",
     "output_type": "stream",
     "text": [
      "{'The': True, 'cat': True, 'is': True, 'very': True, 'cute': True}\n"
     ]
    }
   ],
   "source": [
    "import nltk\n",
    "\n",
    "def format_sentence(sent):\n",
    "    return({word: True for word in nltk.word_tokenize(sent)})\n",
    "\n",
    "print(format_sentence(\"The cat is very cute\"))"
   ]
  },
  {
   "cell_type": "code",
   "execution_count": 80,
   "metadata": {
    "collapsed": false
   },
   "outputs": [],
   "source": [
    "insults = pd.read_csv(\"insults.csv\")\n",
    "#insults.head()\n",
    "imr = insults[[\"Comment\"]]\n",
    "#imr.head()\n",
    "file = 'imr.csv'\n",
    "fox_map_reduced_text.to_csv(file, index=False, header=False, encoding='utf-8')"
   ]
  },
  {
   "cell_type": "code",
   "execution_count": 81,
   "metadata": {
    "collapsed": false
   },
   "outputs": [],
   "source": [
    "pos = []\n",
    "with open(\"fox.csv\", encoding=\"utf8\") as f:\n",
    "    for i in f: \n",
    "        pos.append([format_sentence(i), 'pos'])\n",
    "        \n",
    "neg = []\n",
    "with open(\"imr.csv\",encoding=\"utf8\") as f:\n",
    "    for i in f: \n",
    "        neg.append([format_sentence(i), 'neg'])\n"
   ]
  },
  {
   "cell_type": "code",
   "execution_count": 82,
   "metadata": {
    "collapsed": true
   },
   "outputs": [],
   "source": [
    "training = pos[:int((.8)*len(pos))] + neg[:int((.8)*len(neg))]\n",
    "test = pos[int((.8)*len(pos)):] + neg[int((.8)*len(neg)):]"
   ]
  },
  {
   "cell_type": "code",
   "execution_count": 83,
   "metadata": {
    "collapsed": true
   },
   "outputs": [],
   "source": [
    "from nltk.classify import NaiveBayesClassifier\n",
    "\n",
    "classifier = NaiveBayesClassifier.train(training)"
   ]
  },
  {
   "cell_type": "code",
   "execution_count": 84,
   "metadata": {
    "collapsed": false
   },
   "outputs": [
    {
     "name": "stdout",
     "output_type": "stream",
     "text": [
      "Most Informative Features\n",
      "       //t.co/qKk2WigMXZ = None              neg : pos    =      1.0 : 1.0\n",
      "                   their = True              neg : pos    =      1.0 : 1.0\n",
      "                    Risk = True              neg : pos    =      1.0 : 1.0\n",
      "                   Guild = None              neg : pos    =      1.0 : 1.0\n",
      "            endorsements = True              neg : pos    =      1.0 : 1.0\n",
      "                      2. = True              neg : pos    =      1.0 : 1.0\n",
      "       //t.co/bLuTPFKIkt = None              neg : pos    =      1.0 : 1.0\n",
      "               slashfilm = None              neg : pos    =      1.0 : 1.0\n",
      "                   Proud = None              neg : pos    =      1.0 : 1.0\n",
      "                    sᴉɥʇ = None              neg : pos    =      1.0 : 1.0\n"
     ]
    }
   ],
   "source": [
    "classifier.show_most_informative_features()"
   ]
  },
  {
   "cell_type": "code",
   "execution_count": 91,
   "metadata": {
    "collapsed": false
   },
   "outputs": [
    {
     "name": "stdout",
     "output_type": "stream",
     "text": [
      "pos\n"
     ]
    }
   ],
   "source": [
    "example1 = \"Don't get lost in \"\n",
    "\n",
    "print(classifier.classify(format_sentence(example1)))"
   ]
  },
  {
   "cell_type": "code",
   "execution_count": null,
   "metadata": {
    "collapsed": true
   },
   "outputs": [],
   "source": []
  }
 ],
 "metadata": {
  "kernelspec": {
   "display_name": "Python 3",
   "language": "python",
   "name": "python3"
  },
  "language_info": {
   "codemirror_mode": {
    "name": "ipython",
    "version": 3
   },
   "file_extension": ".py",
   "mimetype": "text/x-python",
   "name": "python",
   "nbconvert_exporter": "python",
   "pygments_lexer": "ipython3",
   "version": "3.6.0"
  }
 },
 "nbformat": 4,
 "nbformat_minor": 2
}
