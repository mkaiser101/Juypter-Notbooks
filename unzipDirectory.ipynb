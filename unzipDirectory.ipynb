{
 "cells": [
  {
   "cell_type": "code",
   "execution_count": 9,
   "metadata": {
    "collapsed": true
   },
   "outputs": [],
   "source": [
    "import os, zipfile"
   ]
  },
  {
   "cell_type": "code",
   "execution_count": 10,
   "metadata": {},
   "outputs": [
    {
     "data": {
      "text/plain": [
       "['.ipynb_checkpoints',\n",
       " 'Photos (1).zip',\n",
       " 'Photos (2).zip',\n",
       " 'Photos (3).zip',\n",
       " 'Photos (4).zip',\n",
       " 'Photos (5).zip',\n",
       " 'Photos (6).zip',\n",
       " 'Photos (7).zip',\n",
       " 'Photos (8).zip',\n",
       " 'Photos (9).zip',\n",
       " 'Photos.zip',\n",
       " 'Trip to Boulder and Ouray County.zip',\n",
       " 'Untitled.ipynb']"
      ]
     },
     "execution_count": 10,
     "metadata": {},
     "output_type": "execute_result"
    }
   ],
   "source": [
    "os.listdir()"
   ]
  },
  {
   "cell_type": "code",
   "execution_count": 11,
   "metadata": {},
   "outputs": [
    {
     "name": "stdout",
     "output_type": "stream",
     "text": [
      "['.ipynb_checkpoints', 'Photos (1).zip', 'Photos (2).zip', 'Photos (3).zip', 'Photos (4).zip', 'Photos (5).zip', 'Photos (6).zip', 'Photos (7).zip', 'Photos (8).zip', 'Photos (9).zip', 'Photos.zip', 'Trip to Boulder and Ouray County.zip', 'Untitled.ipynb']\n"
     ]
    }
   ],
   "source": [
    "directoryFiles = os.listdir()\n",
    "print(directoryFiles)"
   ]
  },
  {
   "cell_type": "code",
   "execution_count": 15,
   "metadata": {},
   "outputs": [
    {
     "data": {
      "text/plain": [
       "'C:\\\\Users\\\\matt\\\\Desktop\\\\unzipPics'"
      ]
     },
     "execution_count": 15,
     "metadata": {},
     "output_type": "execute_result"
    }
   ],
   "source": [
    "os.getcwd()"
   ]
  },
  {
   "cell_type": "code",
   "execution_count": 20,
   "metadata": {},
   "outputs": [],
   "source": [
    "extension = \".zip\"\n",
    "\n",
    "for item in directoryFiles: # loop through items in dir\n",
    "    if item.endswith(extension): # check for \".zip\" extension\n",
    "        file_name = os.path.abspath(item) # get full path of files\n",
    "        zip_ref = zipfile.ZipFile(file_name) # create zipfile object\n",
    "        zip_ref.extractall() # extract file to dir\n",
    "        zip_ref.close() # close file\n",
    "        os.remove(file_name) # delete zipped file"
   ]
  },
  {
   "cell_type": "code",
   "execution_count": 21,
   "metadata": {},
   "outputs": [
    {
     "name": "stdout",
     "output_type": "stream",
     "text": [
      "Photos (1).zip\n",
      "Photos (2).zip\n",
      "Photos (3).zip\n",
      "Photos (4).zip\n",
      "Photos (5).zip\n",
      "Photos (6).zip\n",
      "Photos (7).zip\n",
      "Photos (8).zip\n",
      "Photos (9).zip\n",
      "Photos.zip\n",
      "Trip to Boulder and Ouray County.zip\n"
     ]
    }
   ],
   "source": [
    "for item in directoryFiles: # loop through items in dir\n",
    "    if item.endswith(extension): # check for \".zip\" extension\n",
    "        print(item)\n",
    "        \n",
    "    "
   ]
  },
  {
   "cell_type": "code",
   "execution_count": null,
   "metadata": {
    "collapsed": true
   },
   "outputs": [],
   "source": []
  }
 ],
 "metadata": {
  "kernelspec": {
   "display_name": "Python 3",
   "language": "python",
   "name": "python3"
  },
  "language_info": {
   "codemirror_mode": {
    "name": "ipython",
    "version": 3
   },
   "file_extension": ".py",
   "mimetype": "text/x-python",
   "name": "python",
   "nbconvert_exporter": "python",
   "pygments_lexer": "ipython3",
   "version": "3.6.3"
  }
 },
 "nbformat": 4,
 "nbformat_minor": 2
}
